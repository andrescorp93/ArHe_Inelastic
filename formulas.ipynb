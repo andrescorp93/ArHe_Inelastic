{
 "cells": [
  {
   "cell_type": "code",
   "execution_count": 18,
   "metadata": {},
   "outputs": [
    {
     "data": {
      "text/latex": [
       "$\\displaystyle \\frac{\\sum_{L=0}^{\\infty} i^{L} \\left(2 L + 1\\right) u^{+}{\\left(r,L,i \\right)} e^{i \\delta{\\left(L,i \\right)}} P_{L}\\left(\\cos{\\left(\\theta{\\left(i,j \\right)} \\right)}\\right)}{k r}$"
      ],
      "text/plain": [
       "Sum(I**L*(2*L + 1)*u^{+}(r, L, i)*exp(I*\\delta(L, i))*legendre(L, cos(\\theta(i, j))), (L, 0, oo))/(k*r)"
      ]
     },
     "execution_count": 18,
     "metadata": {},
     "output_type": "execute_result"
    }
   ],
   "source": [
    "import sympy as smp\n",
    "from sympy import Sum, oo, legendre, I, exp\n",
    "from sympy.physics.vector import *\n",
    "\n",
    "e, l, hb, mu, r, i, j, n, k = smp.symbols('E L hbar \\mu r i j n k')\n",
    "uel, phase, theta = smp.symbols('u^{+} \\delta \\\\theta', cls=smp.Function)\n",
    "\n",
    "uel = uel(r,l,i)\n",
    "phase = phase(l,i)\n",
    "theta = theta(i,j)\n",
    "\n",
    "uel_plus = Sum((I**l)*(2*l+1)*exp(I*phase)*legendre(l, smp.cos(theta))*uel,(l,0,oo))/(k*r)\n",
    "uel_plus"
   ]
  }
 ],
 "metadata": {
  "kernelspec": {
   "display_name": "geant",
   "language": "python",
   "name": "python3"
  },
  "language_info": {
   "codemirror_mode": {
    "name": "ipython",
    "version": 3
   },
   "file_extension": ".py",
   "mimetype": "text/x-python",
   "name": "python",
   "nbconvert_exporter": "python",
   "pygments_lexer": "ipython3",
   "version": "3.8.10"
  }
 },
 "nbformat": 4,
 "nbformat_minor": 2
}
