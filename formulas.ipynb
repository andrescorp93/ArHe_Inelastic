{
 "cells": [
  {
   "cell_type": "code",
   "execution_count": 2,
   "metadata": {},
   "outputs": [
    {
     "data": {
      "text/latex": [
       "$\\displaystyle - \\frac{2 E \\mu a_{12}{\\left(R \\right)}}{\\hbar^{2}} + \\frac{J^{2} a_{12}{\\left(R \\right)}}{R^{2}} + \\frac{J a_{12}{\\left(R \\right)}}{R^{2}} + \\frac{2 \\mu V_{1}{\\left(R \\right)} a_{12}{\\left(R \\right)}}{\\hbar^{2}} - \\frac{a_{12}{\\left(R \\right)} \\frac{d^{2}}{d R^{2}} u^{el}_{2}{\\left(R \\right)}}{u^{el}_{2}{\\left(R \\right)}} - \\frac{2 f_{12}{\\left(R \\right)} \\frac{d}{d R} u^{el}_{2}{\\left(R \\right)}}{u^{el}_{2}{\\left(R \\right)}} - \\frac{d}{d R} f_{12}{\\left(R \\right)} - \\frac{2 \\frac{d}{d R} a_{12}{\\left(R \\right)} \\frac{d}{d R} u^{el}_{2}{\\left(R \\right)}}{u^{el}_{2}{\\left(R \\right)}}$"
      ],
      "text/plain": [
       "-2*E*\\mu*a_{12}(R)/hbar**2 + J**2*a_{12}(R)/R**2 + J*a_{12}(R)/R**2 + 2*\\mu*V_1(R)*a_{12}(R)/hbar**2 - a_{12}(R)*Derivative(u_2^el(R), (R, 2))/u_2^el(R) - 2*f_{12}(R)*Derivative(u_2^el(R), R)/u_2^el(R) - Derivative(f_{12}(R), R) - 2*Derivative(a_{12}(R), R)*Derivative(u_2^el(R), R)/u_2^el(R)"
      ]
     },
     "execution_count": 2,
     "metadata": {},
     "output_type": "execute_result"
    }
   ],
   "source": [
    "import numpy as np\n",
    "import matplotlib.pyplot as plt\n",
    "import sympy as smp\n",
    "\n",
    "e, j, hb, mu, R = smp.symbols('E J hbar \\mu R')\n",
    "u1el, u2el, a12, a21, v1, v2, f12 = smp.symbols('u_1^el u_2^el a_{12} a_{21} V_1 V_2 f_{12}', cls=smp.Function)\n",
    "a21 = a21(R)\n",
    "a12 = a12(R)\n",
    "u1el = u1el(R)\n",
    "u2el = u2el(R)\n",
    "u1 = u1el + a12 * u2el\n",
    "u2 = u2el + a21 * u1el\n",
    "v1 = v1(R)\n",
    "v2 = v2(R)\n",
    "f12 = f12(R)\n",
    "\n",
    "kinoperator = lambda u: -(hb**2)*smp.diff(u, R, 2)/(2*mu) + (hb**2)*j*(j+1)*u/(2*mu*(R**2))\n",
    "perturb1 = (hb**2)*(smp.diff(f12, R)*u2el+2*smp.diff(u2el, R)*f12)/(2*mu)\n",
    "perturb2 = -(hb**2)*(smp.diff(f12, R)*u1el+2*smp.diff(u1el, R)*f12)/(2*mu)\n",
    "pot1operator = lambda u: v1 * u - e * u\n",
    "pot2operator = lambda u: v2 * u - e * u\n",
    "h01 = lambda u: kinoperator(u)+pot1operator(u)\n",
    "h02 = lambda u: kinoperator(u)+pot2operator(u)\n",
    "eq1 = h01(u1)-h01(u1el)-perturb1\n",
    "eq2 = h02(u2)-h02(u2el)-perturb2\n",
    "smp.solve(eq1, smp.diff(a12, R, 2))[0]"
   ]
  },
  {
   "cell_type": "code",
   "execution_count": 3,
   "metadata": {},
   "outputs": [
    {
     "data": {
      "text/latex": [
       "$\\displaystyle - \\frac{2 E \\mu a_{21}{\\left(R \\right)}}{\\hbar^{2}} + \\frac{J^{2} a_{21}{\\left(R \\right)}}{R^{2}} + \\frac{J a_{21}{\\left(R \\right)}}{R^{2}} + \\frac{2 \\mu V_{2}{\\left(R \\right)} a_{21}{\\left(R \\right)}}{\\hbar^{2}} - \\frac{a_{21}{\\left(R \\right)} \\frac{d^{2}}{d R^{2}} u^{el}_{1}{\\left(R \\right)}}{u^{el}_{1}{\\left(R \\right)}} + \\frac{2 f_{12}{\\left(R \\right)} \\frac{d}{d R} u^{el}_{1}{\\left(R \\right)}}{u^{el}_{1}{\\left(R \\right)}} + \\frac{d}{d R} f_{12}{\\left(R \\right)} - \\frac{2 \\frac{d}{d R} a_{21}{\\left(R \\right)} \\frac{d}{d R} u^{el}_{1}{\\left(R \\right)}}{u^{el}_{1}{\\left(R \\right)}}$"
      ],
      "text/plain": [
       "-2*E*\\mu*a_{21}(R)/hbar**2 + J**2*a_{21}(R)/R**2 + J*a_{21}(R)/R**2 + 2*\\mu*V_2(R)*a_{21}(R)/hbar**2 - a_{21}(R)*Derivative(u_1^el(R), (R, 2))/u_1^el(R) + 2*f_{12}(R)*Derivative(u_1^el(R), R)/u_1^el(R) + Derivative(f_{12}(R), R) - 2*Derivative(a_{21}(R), R)*Derivative(u_1^el(R), R)/u_1^el(R)"
      ]
     },
     "execution_count": 3,
     "metadata": {},
     "output_type": "execute_result"
    }
   ],
   "source": [
    "smp.solve(eq2, smp.diff(a21, R, 2))[0]"
   ]
  },
  {
   "cell_type": "code",
   "execution_count": 4,
   "metadata": {},
   "outputs": [
    {
     "data": {
      "text/latex": [
       "$\\displaystyle - E \\left(a_{12}{\\left(R \\right)} u^{el}_{2}{\\left(R \\right)} + u^{el}_{1}{\\left(R \\right)}\\right) + E u^{el}_{1}{\\left(R \\right)} + \\frac{J \\hbar^{2} \\left(J + 1\\right) \\left(a_{12}{\\left(R \\right)} u^{el}_{2}{\\left(R \\right)} + u^{el}_{1}{\\left(R \\right)}\\right)}{2 R^{2} \\mu} - \\frac{J \\hbar^{2} \\left(J + 1\\right) u^{el}_{1}{\\left(R \\right)}}{2 R^{2} \\mu} + \\left(a_{12}{\\left(R \\right)} u^{el}_{2}{\\left(R \\right)} + u^{el}_{1}{\\left(R \\right)}\\right) V_{1}{\\left(R \\right)} - V_{1}{\\left(R \\right)} u^{el}_{1}{\\left(R \\right)} - \\frac{\\hbar^{2} \\cdot \\left(2 f_{12}{\\left(R \\right)} \\frac{d}{d R} u^{el}_{2}{\\left(R \\right)} + u^{el}_{2}{\\left(R \\right)} \\frac{d}{d R} f_{12}{\\left(R \\right)}\\right)}{2 \\mu} - \\frac{\\hbar^{2} \\left(a_{12}{\\left(R \\right)} \\frac{d^{2}}{d R^{2}} u^{el}_{2}{\\left(R \\right)} + u^{el}_{2}{\\left(R \\right)} \\frac{d^{2}}{d R^{2}} a_{12}{\\left(R \\right)} + 2 \\frac{d}{d R} a_{12}{\\left(R \\right)} \\frac{d}{d R} u^{el}_{2}{\\left(R \\right)} + \\frac{d^{2}}{d R^{2}} u^{el}_{1}{\\left(R \\right)}\\right)}{2 \\mu} + \\frac{\\hbar^{2} \\frac{d^{2}}{d R^{2}} u^{el}_{1}{\\left(R \\right)}}{2 \\mu}$"
      ],
      "text/plain": [
       "-E*(a_{12}(R)*u_2^el(R) + u_1^el(R)) + E*u_1^el(R) + J*hbar**2*(J + 1)*(a_{12}(R)*u_2^el(R) + u_1^el(R))/(2*R**2*\\mu) - J*hbar**2*(J + 1)*u_1^el(R)/(2*R**2*\\mu) + (a_{12}(R)*u_2^el(R) + u_1^el(R))*V_1(R) - V_1(R)*u_1^el(R) - hbar**2*(2*f_{12}(R)*Derivative(u_2^el(R), R) + u_2^el(R)*Derivative(f_{12}(R), R))/(2*\\mu) - hbar**2*(a_{12}(R)*Derivative(u_2^el(R), (R, 2)) + u_2^el(R)*Derivative(a_{12}(R), (R, 2)) + 2*Derivative(a_{12}(R), R)*Derivative(u_2^el(R), R) + Derivative(u_1^el(R), (R, 2)))/(2*\\mu) + hbar**2*Derivative(u_1^el(R), (R, 2))/(2*\\mu)"
      ]
     },
     "execution_count": 4,
     "metadata": {},
     "output_type": "execute_result"
    }
   ],
   "source": [
    "eq1"
   ]
  }
 ],
 "metadata": {
  "kernelspec": {
   "display_name": "geant",
   "language": "python",
   "name": "python3"
  },
  "language_info": {
   "codemirror_mode": {
    "name": "ipython",
    "version": 3
   },
   "file_extension": ".py",
   "mimetype": "text/x-python",
   "name": "python",
   "nbconvert_exporter": "python",
   "pygments_lexer": "ipython3",
   "version": "3.8.10"
  }
 },
 "nbformat": 4,
 "nbformat_minor": 2
}
