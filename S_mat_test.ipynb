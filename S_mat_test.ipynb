{
 "cells": [
  {
   "cell_type": "code",
   "execution_count": 1,
   "id": "9a150e41",
   "metadata": {},
   "outputs": [],
   "source": [
    "from funcs import load_matrices\n",
    "import numpy as np\n",
    "import matplotlib.pyplot as plt\n",
    "import os\n",
    "\n",
    "dirs = [n for n in os.listdir() if (os.path.isdir(n) and ((n[-2:]=='_p') or (n[-2:]=='_s')))]\n",
    "for dir in dirs:\n",
    "    smats_file = np.load(f'{dir}/Smatrix.npz', allow_pickle=True)['arr_0'][()]\n",
    "    r, hls, ddrls = load_matrices(dir)\n",
    "    n = len(hls[-1])\n",
    "    es = np.array([float(k.split('=')[-1]) for k in smats_file.keys()])\n",
    "    smats = [smats_file[f'E = {es[ei]}'] for ei in range(len(es))]\n",
    "    ks = [np.array([np.sqrt((es[ei]-np.real(np.diag(hls[-1])[i]))/4.637) for i in range(n) if es[ei] > np.real(np.diag(hls[-1])[i])]) for ei in range(len(es))]\n",
    "    sigma_sum = [np.pi*1e-16*np.sum(np.array([(2*li+1)*np.abs(smats[ei][li]-np.eye(len(smats[ei][li])))**2 for li in range(len(smats[ei]))]), axis=0) @ np.diag(ks[ei]**(-2)) for ei in range(len(es))]\n",
    "    sigmas = np.zeros((len(es), n, n))\n",
    "    for ei in range(len(es)):\n",
    "        nt = len(sigma_sum[ei])\n",
    "        sigmas[ei, :nt, :nt] = sigma_sum[ei]\n",
    "\n",
    "    headerfinal = 'E, cm-1\\t'\n",
    "    for i in range(n):\n",
    "        for j in range(n):\n",
    "            headerfinal += f'Sigma_{i}{j}, cm2\\t'\n",
    "\n",
    "    tofile = np.zeros((len(es), n*n+1))\n",
    "    tofile[:,0] = es\n",
    "    for i in range(n):\n",
    "        for j in range(n):\n",
    "            tofile[:,i*n+j+1] = sigmas[:,i,j]\n",
    "\n",
    "    np.savetxt(f'{dir}/sigmas_total_airy.txt', tofile, fmt='%.6e', delimiter='\\t', header=headerfinal, comments='')"
   ]
  }
 ],
 "metadata": {
  "kernelspec": {
   "display_name": "quantchem",
   "language": "python",
   "name": "python3"
  },
  "language_info": {
   "codemirror_mode": {
    "name": "ipython",
    "version": 3
   },
   "file_extension": ".py",
   "mimetype": "text/x-python",
   "name": "python",
   "nbconvert_exporter": "python",
   "pygments_lexer": "ipython3",
   "version": "3.13.3"
  }
 },
 "nbformat": 4,
 "nbformat_minor": 5
}
