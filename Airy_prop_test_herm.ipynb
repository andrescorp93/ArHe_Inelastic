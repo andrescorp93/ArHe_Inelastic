{
 "cells": [
  {
   "cell_type": "code",
   "execution_count": 7,
   "id": "ceb747c4",
   "metadata": {},
   "outputs": [],
   "source": [
    "from funcs import load_matrices, matrix_funcs\n",
    "import numpy as np\n",
    "import matplotlib.pyplot as plt\n",
    "from scipy.special import airy, airye, spherical_jn as sph_jn, spherical_yn as sph_yn\n",
    "import os\n",
    "\n",
    "dir = 'H_0_plus_p'\n",
    "\n",
    "r, hls, ddrls = load_matrices(dir)\n",
    "emin = hls[-1,0,0]\n",
    "n = len(hls[0])\n",
    "shift = np.array([emin*np.eye(len(hls[0]), dtype=complex)]*len(r))\n",
    "vd = (hls-shift)/4.637\n",
    "hfunc, ddrfunc = matrix_funcs(r, vd, ddrls)\n",
    "emax = np.abs(np.array(hfunc(r[0])[-1,-1]))\n",
    "w = lambda rs, l, e: np.array([e*np.eye(n)-(hfunc(r)+l*(l*1)/(r**2)*np.eye(n)) for r in rs])\n",
    "wp = lambda rs, l: np.array([-(hfunc(r,1)-2*l*(l*1)/(r**3)*np.eye(n)) for r in rs])\n",
    "es = np.array([1])\n",
    "for i in range(n):\n",
    "    emax = np.abs(np.array(hfunc(r[0])[i,i]))\n",
    "    emin = np.abs(np.array(hfunc(r[-1])[i,i]))\n",
    "    es = np.concatenate((es, np.power(10, np.arange(np.log10(emin if emin!=0 else 1), np.log10(emax), 0.01))))\n",
    "es = np.unique(np.round(np.sort(es)))\n",
    "sigmas = np.zeros((len(es), n, n))\n",
    "ecm = es*4.637+np.real(hls[-1,0,0])"
   ]
  },
  {
   "cell_type": "code",
   "execution_count": 14,
   "id": "697b5e14",
   "metadata": {},
   "outputs": [],
   "source": [
    "ei = 270\n",
    "e = es[ei]\n",
    "lmax = int(np.round(np.sqrt(e)*np.max(r[-1]))*0.8)\n",
    "ks = np.diag(np.sqrt(e*np.eye(n)-hfunc(r[-1])))\n",
    "yf = np.zeros((lmax, n, n), dtype=complex)\n",
    "nt = np.sum(np.diag(vd[-1]) < e)"
   ]
  },
  {
   "cell_type": "code",
   "execution_count": 15,
   "id": "33d79377",
   "metadata": {},
   "outputs": [
    {
     "name": "stderr",
     "output_type": "stream",
     "text": [
      "/tmp/ipykernel_138081/4288112464.py:40: RuntimeWarning: overflow encountered in matmul\n",
      "  prey = np.matrix(c3[i] + c4[i] @ y[i]) @ (np.matrix(c1[i] + c2[i] @ y[i]).I)\n",
      "/tmp/ipykernel_138081/4288112464.py:40: RuntimeWarning: invalid value encountered in matmul\n",
      "  prey = np.matrix(c3[i] + c4[i] @ y[i]) @ (np.matrix(c1[i] + c2[i] @ y[i]).I)\n"
     ]
    },
    {
     "name": "stdout",
     "output_type": "stream",
     "text": [
      "108588.22499999999\n",
      "[[1.67992657e-14 9.11438963e-16 1.83162619e-17 1.88406616e-18\n",
      "  7.60637429e-18]\n",
      " [6.16711969e-16 3.92496014e-14 8.92368026e-17 1.11949567e-17\n",
      "  3.44531401e-18]\n",
      " [5.82151236e-18 4.18585880e-17 2.87871450e-14 1.21238224e-15\n",
      "  7.20703646e-20]\n",
      " [5.06378485e-19 4.44419146e-18 1.02862340e-15 2.98341708e-14\n",
      "  3.74656450e-20]\n",
      " [1.46294961e-20 9.81660409e-21 4.36235176e-22 2.72262915e-22\n",
      "  3.82982985e-14]]\n"
     ]
    }
   ],
   "source": [
    "for l in range(lmax):\n",
    "    wtest = w(r[:-1]+np.diff(r)/2, l, e)\n",
    "    wptest = wp(r[:-1]+np.diff(r)/2, l)\n",
    "    k2 = np.zeros((len(wtest), n))\n",
    "    t = np.zeros((len(wtest), n, n), dtype=complex)\n",
    "    wpt = np.zeros((len(wtest), n, n), dtype=complex)\n",
    "    for i in range(len(wtest)):\n",
    "        k2[i], t[i] = np.linalg.eigh(wtest[i])\n",
    "        wpt[i] = np.matrix(t[i]).H @ (np.matrix(wptest[i]) @ np.matrix(t[i]))\n",
    "    p = np.array([np.matrix(t[i]).H @ np.matrix(t[i-1]) if i > 0 else np.matrix(t[0]) for i in range(len(wtest))])\n",
    "    c1 = np.zeros((len(wtest), n, n), dtype=complex)\n",
    "    c2 = np.zeros((len(wtest), n, n), dtype=complex)\n",
    "    c3 = np.zeros((len(wtest), n, n), dtype=complex)\n",
    "    c4 = np.zeros((len(wtest), n, n), dtype=complex)\n",
    "    for i in range(len(wtest)):\n",
    "        phase = 2*np.pi/3\n",
    "        alpha = np.array([-(wpt[i,j,j])**(1./3.) if np.allclose(-(wpt[i,j,j])**(1./3.), np.real(-(wpt[i,j,j])**(1./3.)))\n",
    "                        else -(wpt[i,j,j])**(1./3.)*np.exp(-1j*np.angle(-(wpt[i,j,j])**(1./3.))) for j in range(n)])\n",
    "        beta = k2[i]/np.diag(wpt[i])\n",
    "        wr = alpha/np.pi\n",
    "        rhob = np.diff(r)[i]/2\n",
    "        x = np.array([[alpha[j]*(-rhob+beta[j]), alpha[j]*(rhob+beta[j])] for j in range(n)])\n",
    "        for j in range(n):\n",
    "            if np.any(np.real(x[j]) > 100):\n",
    "                dksi = np.diff((2./3)*(x[j]**(3./2)))[0]\n",
    "                aie, aiep, bie, biep = airye(x[j])\n",
    "                c1[i,j,j] = np.pi*(np.exp(-dksi)*aie[1]*biep[0]-np.exp(dksi)*bie[1]*aiep[0]) #/wr[j]\n",
    "                c2[i,j,j] = np.pi*(np.exp(dksi)*bie[1]*aie[0]-np.exp(-dksi)*aie[1]*bie[0])/alpha[j]\n",
    "                c3[i,j,j] = np.pi*alpha[j]*(np.exp(-dksi)*aiep[1]*biep[0]-np.exp(dksi)*biep[1]*aiep[0]) #/wr[j]\n",
    "                c4[i,j,j] = np.pi*(np.exp(dksi)*biep[1]*aie[0]-np.exp(-dksi)*aiep[1]*bie[0]) #/wr[j]\n",
    "            else:\n",
    "                ai, aip, bi, bip = airy(x[j])\n",
    "                c1[i,j,j] = np.pi*(ai[1]*bip[0]-bi[1]*aip[0]) #/wr[j]\n",
    "                c2[i,j,j] = np.pi*(bi[1]*ai[0]-ai[1]*bi[0])/alpha[j]\n",
    "                c3[i,j,j] = np.pi*alpha[j]*(aip[1]*bip[0]-bip[1]*aip[0]) #/wr[j]\n",
    "                c4[i,j,j] = np.pi*(bip[1]*ai[0]-aip[1]*bi[0]) #/wr[j]\n",
    "    y = np.zeros((len(r), n, n), dtype=complex)\n",
    "    y[0] = 1e308*np.eye(n, dtype=complex)\n",
    "    for i in range(len(wtest)):\n",
    "        prey = np.matrix(c3[i] + c4[i] @ y[i]) @ (np.matrix(c1[i] + c2[i] @ y[i]).I)\n",
    "        y[i+1] = np.matrix(p[i]) @ (prey @ np.matrix(p[i]).H)\n",
    "        # try:\n",
    "        #     prey = np.matrix(c3[i] + c4[i] @ y[i]) @ (np.matrix(c1[i] + c2[i] @ y[i]).I)\n",
    "        # except np.linalg.LinAlgError:\n",
    "        #     print(np.matrix(c1[i] + c2[i] @ y[i]))\n",
    "        # print(prey)\n",
    "        # y[i+1] = np.matrix(p[i]) @ (prey @ np.matrix(p[i]).H)\n",
    "        # print(y[i+1])\n",
    "    yf[l] = np.matrix(t[-1]).H @ (y[-1] @ np.matrix(t[-1]))\n",
    "jmat = np.array([np.diag([sph_jn(int(l), k*r[-1]) for k in ks]) for l in range(lmax)])\n",
    "nmat = np.array([np.diag([sph_yn(int(l), k*r[-1]) for k in ks]) for l in range(lmax)])\n",
    "jpmat = np.array([np.diag([k*sph_jn(int(l), k*r[-1], derivative=True) for k in ks]) for l in range(lmax)])\n",
    "npmat = np.array([np.diag([k*sph_yn(int(l), k*r[-1], derivative=True) for k in ks]) for l in range(lmax)])\n",
    "rmat = np.array([-np.matrix(npmat[l] - yf[l] @ nmat[l]).I @ np.matrix(jpmat[l] - yf[l] @ jmat[l]) for l in range(lmax)])\n",
    "smat = np.array([np.matrix(np.eye(nt) + 1j*rmat[l,:nt,:nt]).I @ np.matrix(np.eye(nt) - 1j*rmat[l,:nt,:nt]) if not np.all(np.isnan(rmat[l,:nt,:nt])) else np.eye(nt) for l in range(lmax)])\n",
    "sigmas[ei,:nt,:nt] = np.pi * 1e-16 * np.sum(np.array([(2*l+1)*(np.abs(smat[l]-np.eye(nt))**2) for l in range(lmax)]),axis=0) @ np.matrix(np.abs(np.diag(ks[:nt]))**2).I\n",
    "print(ecm[ei])\n",
    "print(sigmas[ei])"
   ]
  }
 ],
 "metadata": {
  "kernelspec": {
   "display_name": "Python 3",
   "language": "python",
   "name": "python3"
  },
  "language_info": {
   "codemirror_mode": {
    "name": "ipython",
    "version": 3
   },
   "file_extension": ".py",
   "mimetype": "text/x-python",
   "name": "python",
   "nbconvert_exporter": "python",
   "pygments_lexer": "ipython3",
   "version": "3.8.10"
  }
 },
 "nbformat": 4,
 "nbformat_minor": 5
}
